{
 "cells": [
  {
   "cell_type": "markdown",
   "id": "50001e6f",
   "metadata": {},
   "source": [
    "# Sommaire\n",
    "\n",
    "* [Importation des données](#import)\n",
    "* [Détermination de cluster par la méthode KMeans](#kmeans)\n",
    "* [Scaling des données (avec Robust Scaler)](#scaling)\n",
    "* [Création du modèle avec KNN](#knn)\n",
    "* [Test avec dataset nettoyé](#cleaned)\n",
    "* [Exportation du modèle avec pickle](#scaling)"
   ]
  },
  {
   "cell_type": "code",
   "execution_count": 95,
   "id": "d29e691e",
   "metadata": {},
   "outputs": [],
   "source": [
    "# Imports \n",
    "import numpy as np\n",
    "import pandas as pd\n",
    "import matplotlib.pyplot as plt\n",
    "import seaborn as sns\n",
    "import pickle\n",
    "\n",
    "from sklearn.model_selection import train_test_split\n",
    "from sklearn.model_selection import cross_validate\n",
    "from sklearn.model_selection import cross_val_score\n",
    "from sklearn.model_selection import cross_val_predict\n",
    "from sklearn.neighbors import NeighborhoodComponentsAnalysis\n",
    "from sklearn.neighbors import KNeighborsClassifier\n",
    "from sklearn.cluster import KMeans\n",
    "from yellowbrick.cluster import KElbowVisualizer, SilhouetteVisualizer\n",
    "\n",
    "from sklearn.linear_model import LogisticRegression\n",
    "from sklearn.dummy import DummyClassifier\n",
    "from sklearn.neighbors import KNeighborsRegressor\n",
    "from sklearn.decomposition import PCA\n",
    "from sklearn.preprocessing import scale\n",
    "\n",
    "from sklearn.metrics import accuracy_score, precision_score, recall_score, f1_score, \\\n",
    "    confusion_matrix, classification_report\n",
    "\n",
    "from sklearn.metrics import roc_auc_score, plot_roc_curve, roc_curve\n",
    "from sklearn.metrics import average_precision_score\n",
    "from sklearn.metrics import precision_recall_curve,plot_precision_recall_curve\n",
    "\n",
    "from sklearn.model_selection import learning_curve\n",
    "\n",
    "from statsmodels.stats.outliers_influence import variance_inflation_factor as vif\n",
    "\n",
    "from sklearn.model_selection import train_test_split\n",
    "from sklearn.linear_model import LinearRegression\n",
    "\n",
    "from sklearn.inspection import permutation_importance\n",
    "import seaborn as sns\n",
    "from itertools import cycle\n",
    "color_cycle = cycle(plt.rcParams['axes.prop_cycle'].by_key()['color'])\n",
    "from sklearn.preprocessing import RobustScaler"
   ]
  },
  {
   "cell_type": "markdown",
   "id": "bff74724",
   "metadata": {},
   "source": [
    "## Importation des données <a class=\"anchor\" id=\"import\"></a> "
   ]
  },
  {
   "cell_type": "markdown",
   "id": "d171297b",
   "metadata": {},
   "source": [
    "Nous importons les valeurs que nous venons de nettoyer"
   ]
  },
  {
   "cell_type": "code",
   "execution_count": 82,
   "id": "13fa9911",
   "metadata": {
    "scrolled": true
   },
   "outputs": [
    {
     "data": {
      "text/html": [
       "<div>\n",
       "<style scoped>\n",
       "    .dataframe tbody tr th:only-of-type {\n",
       "        vertical-align: middle;\n",
       "    }\n",
       "\n",
       "    .dataframe tbody tr th {\n",
       "        vertical-align: top;\n",
       "    }\n",
       "\n",
       "    .dataframe thead th {\n",
       "        text-align: right;\n",
       "    }\n",
       "</style>\n",
       "<table border=\"1\" class=\"dataframe\">\n",
       "  <thead>\n",
       "    <tr style=\"text-align: right;\">\n",
       "      <th></th>\n",
       "      <th>longitude</th>\n",
       "      <th>latitude</th>\n",
       "      <th>housing_median_age</th>\n",
       "      <th>total_rooms</th>\n",
       "      <th>total_bedrooms</th>\n",
       "      <th>population</th>\n",
       "      <th>households</th>\n",
       "      <th>median_income</th>\n",
       "      <th>median_house_value</th>\n",
       "      <th>ISLAND</th>\n",
       "      <th>NEAR OCEAN</th>\n",
       "      <th>NEAR BAY</th>\n",
       "      <th>&lt;1H OCEAN</th>\n",
       "      <th>INLAND</th>\n",
       "    </tr>\n",
       "  </thead>\n",
       "  <tbody>\n",
       "    <tr>\n",
       "      <th>0</th>\n",
       "      <td>-119.84</td>\n",
       "      <td>36.77</td>\n",
       "      <td>6.0</td>\n",
       "      <td>1853.0</td>\n",
       "      <td>473.0</td>\n",
       "      <td>1397.0</td>\n",
       "      <td>417.0</td>\n",
       "      <td>1.4817</td>\n",
       "      <td>72000.0</td>\n",
       "      <td>0</td>\n",
       "      <td>0</td>\n",
       "      <td>0</td>\n",
       "      <td>0</td>\n",
       "      <td>1</td>\n",
       "    </tr>\n",
       "    <tr>\n",
       "      <th>1</th>\n",
       "      <td>-117.80</td>\n",
       "      <td>33.68</td>\n",
       "      <td>8.0</td>\n",
       "      <td>2032.0</td>\n",
       "      <td>349.0</td>\n",
       "      <td>862.0</td>\n",
       "      <td>340.0</td>\n",
       "      <td>6.9133</td>\n",
       "      <td>274100.0</td>\n",
       "      <td>0</td>\n",
       "      <td>0</td>\n",
       "      <td>0</td>\n",
       "      <td>1</td>\n",
       "      <td>0</td>\n",
       "    </tr>\n",
       "    <tr>\n",
       "      <th>2</th>\n",
       "      <td>-120.19</td>\n",
       "      <td>36.60</td>\n",
       "      <td>25.0</td>\n",
       "      <td>875.0</td>\n",
       "      <td>214.0</td>\n",
       "      <td>931.0</td>\n",
       "      <td>214.0</td>\n",
       "      <td>1.5536</td>\n",
       "      <td>58300.0</td>\n",
       "      <td>0</td>\n",
       "      <td>0</td>\n",
       "      <td>0</td>\n",
       "      <td>0</td>\n",
       "      <td>1</td>\n",
       "    </tr>\n",
       "    <tr>\n",
       "      <th>3</th>\n",
       "      <td>-118.32</td>\n",
       "      <td>34.10</td>\n",
       "      <td>31.0</td>\n",
       "      <td>622.0</td>\n",
       "      <td>229.0</td>\n",
       "      <td>597.0</td>\n",
       "      <td>227.0</td>\n",
       "      <td>1.5284</td>\n",
       "      <td>200000.0</td>\n",
       "      <td>0</td>\n",
       "      <td>0</td>\n",
       "      <td>0</td>\n",
       "      <td>1</td>\n",
       "      <td>0</td>\n",
       "    </tr>\n",
       "    <tr>\n",
       "      <th>4</th>\n",
       "      <td>-121.23</td>\n",
       "      <td>37.79</td>\n",
       "      <td>21.0</td>\n",
       "      <td>1922.0</td>\n",
       "      <td>373.0</td>\n",
       "      <td>1130.0</td>\n",
       "      <td>372.0</td>\n",
       "      <td>4.0815</td>\n",
       "      <td>117900.0</td>\n",
       "      <td>0</td>\n",
       "      <td>0</td>\n",
       "      <td>0</td>\n",
       "      <td>0</td>\n",
       "      <td>1</td>\n",
       "    </tr>\n",
       "    <tr>\n",
       "      <th>...</th>\n",
       "      <td>...</td>\n",
       "      <td>...</td>\n",
       "      <td>...</td>\n",
       "      <td>...</td>\n",
       "      <td>...</td>\n",
       "      <td>...</td>\n",
       "      <td>...</td>\n",
       "      <td>...</td>\n",
       "      <td>...</td>\n",
       "      <td>...</td>\n",
       "      <td>...</td>\n",
       "      <td>...</td>\n",
       "      <td>...</td>\n",
       "      <td>...</td>\n",
       "    </tr>\n",
       "    <tr>\n",
       "      <th>16331</th>\n",
       "      <td>-121.90</td>\n",
       "      <td>39.59</td>\n",
       "      <td>20.0</td>\n",
       "      <td>1465.0</td>\n",
       "      <td>278.0</td>\n",
       "      <td>745.0</td>\n",
       "      <td>250.0</td>\n",
       "      <td>3.0625</td>\n",
       "      <td>93800.0</td>\n",
       "      <td>0</td>\n",
       "      <td>0</td>\n",
       "      <td>0</td>\n",
       "      <td>0</td>\n",
       "      <td>1</td>\n",
       "    </tr>\n",
       "    <tr>\n",
       "      <th>16332</th>\n",
       "      <td>-122.25</td>\n",
       "      <td>38.11</td>\n",
       "      <td>49.0</td>\n",
       "      <td>2365.0</td>\n",
       "      <td>504.0</td>\n",
       "      <td>1131.0</td>\n",
       "      <td>458.0</td>\n",
       "      <td>2.6133</td>\n",
       "      <td>103100.0</td>\n",
       "      <td>0</td>\n",
       "      <td>0</td>\n",
       "      <td>1</td>\n",
       "      <td>0</td>\n",
       "      <td>0</td>\n",
       "    </tr>\n",
       "    <tr>\n",
       "      <th>16333</th>\n",
       "      <td>-121.22</td>\n",
       "      <td>38.92</td>\n",
       "      <td>19.0</td>\n",
       "      <td>2531.0</td>\n",
       "      <td>461.0</td>\n",
       "      <td>1206.0</td>\n",
       "      <td>429.0</td>\n",
       "      <td>4.4958</td>\n",
       "      <td>192600.0</td>\n",
       "      <td>0</td>\n",
       "      <td>0</td>\n",
       "      <td>0</td>\n",
       "      <td>0</td>\n",
       "      <td>1</td>\n",
       "    </tr>\n",
       "    <tr>\n",
       "      <th>16334</th>\n",
       "      <td>-118.14</td>\n",
       "      <td>34.16</td>\n",
       "      <td>39.0</td>\n",
       "      <td>2776.0</td>\n",
       "      <td>840.0</td>\n",
       "      <td>2546.0</td>\n",
       "      <td>773.0</td>\n",
       "      <td>2.5750</td>\n",
       "      <td>153500.0</td>\n",
       "      <td>0</td>\n",
       "      <td>0</td>\n",
       "      <td>0</td>\n",
       "      <td>1</td>\n",
       "      <td>0</td>\n",
       "    </tr>\n",
       "    <tr>\n",
       "      <th>16335</th>\n",
       "      <td>-124.13</td>\n",
       "      <td>40.80</td>\n",
       "      <td>31.0</td>\n",
       "      <td>2152.0</td>\n",
       "      <td>462.0</td>\n",
       "      <td>1259.0</td>\n",
       "      <td>420.0</td>\n",
       "      <td>2.2478</td>\n",
       "      <td>81100.0</td>\n",
       "      <td>0</td>\n",
       "      <td>1</td>\n",
       "      <td>0</td>\n",
       "      <td>0</td>\n",
       "      <td>0</td>\n",
       "    </tr>\n",
       "  </tbody>\n",
       "</table>\n",
       "<p>16336 rows × 14 columns</p>\n",
       "</div>"
      ],
      "text/plain": [
       "       longitude  latitude  housing_median_age  total_rooms  total_bedrooms  \\\n",
       "0        -119.84     36.77                 6.0       1853.0           473.0   \n",
       "1        -117.80     33.68                 8.0       2032.0           349.0   \n",
       "2        -120.19     36.60                25.0        875.0           214.0   \n",
       "3        -118.32     34.10                31.0        622.0           229.0   \n",
       "4        -121.23     37.79                21.0       1922.0           373.0   \n",
       "...          ...       ...                 ...          ...             ...   \n",
       "16331    -121.90     39.59                20.0       1465.0           278.0   \n",
       "16332    -122.25     38.11                49.0       2365.0           504.0   \n",
       "16333    -121.22     38.92                19.0       2531.0           461.0   \n",
       "16334    -118.14     34.16                39.0       2776.0           840.0   \n",
       "16335    -124.13     40.80                31.0       2152.0           462.0   \n",
       "\n",
       "       population  households  median_income  median_house_value  ISLAND  \\\n",
       "0          1397.0       417.0         1.4817             72000.0       0   \n",
       "1           862.0       340.0         6.9133            274100.0       0   \n",
       "2           931.0       214.0         1.5536             58300.0       0   \n",
       "3           597.0       227.0         1.5284            200000.0       0   \n",
       "4          1130.0       372.0         4.0815            117900.0       0   \n",
       "...           ...         ...            ...                 ...     ...   \n",
       "16331       745.0       250.0         3.0625             93800.0       0   \n",
       "16332      1131.0       458.0         2.6133            103100.0       0   \n",
       "16333      1206.0       429.0         4.4958            192600.0       0   \n",
       "16334      2546.0       773.0         2.5750            153500.0       0   \n",
       "16335      1259.0       420.0         2.2478             81100.0       0   \n",
       "\n",
       "       NEAR OCEAN  NEAR BAY  <1H OCEAN  INLAND  \n",
       "0               0         0          0       1  \n",
       "1               0         0          1       0  \n",
       "2               0         0          0       1  \n",
       "3               0         0          1       0  \n",
       "4               0         0          0       1  \n",
       "...           ...       ...        ...     ...  \n",
       "16331           0         0          0       1  \n",
       "16332           0         1          0       0  \n",
       "16333           0         0          0       1  \n",
       "16334           0         0          1       0  \n",
       "16335           1         0          0       0  \n",
       "\n",
       "[16336 rows x 14 columns]"
      ]
     },
     "execution_count": 82,
     "metadata": {},
     "output_type": "execute_result"
    }
   ],
   "source": [
    "df = pd.read_csv(\"C:/Users/Simplon/Desktop/California Dreamin/estate.csv\")\n",
    "df"
   ]
  },
  {
   "cell_type": "markdown",
   "id": "59464c88",
   "metadata": {},
   "source": [
    "## Détermination de cluster par la méthode KMeans <a class=\"anchor\" id=\"kmeans\"></a>"
   ]
  },
  {
   "cell_type": "markdown",
   "id": "e7c628d3",
   "metadata": {},
   "source": [
    "Pour améliorer notre modèle, avant d'appliquer tout changement nous allons appliquer la méthode KMeans afin de placer nos données dans des clusters. Cela nous permettra d'avoir accès à une nouvelle feature \"cluster\" qui sera très correllé. Donc utile pour la réalisation du modèle."
   ]
  },
  {
   "cell_type": "code",
   "execution_count": 83,
   "id": "3f6db724",
   "metadata": {},
   "outputs": [
    {
     "data": {
      "image/png": "[encoded data removed]",
      "text/plain": [
       "<Figure size 576x396 with 2 Axes>"
      ]
     },
     "metadata": {},
     "output_type": "display_data"
    },
    {
     "data": {
      "text/plain": [
       "<AxesSubplot:title={'center':'Distortion Score Elbow for KMeans Clustering'}, xlabel='k', ylabel='distortion score'>"
      ]
     },
     "execution_count": 83,
     "metadata": {},
     "output_type": "execute_result"
    }
   ],
   "source": [
    "model = KMeans(random_state=50)\n",
    "visualizer = KElbowVisualizer(model, k =(1,14))\n",
    "visualizer.fit(df)\n",
    "visualizer.show()"
   ]
  },
  {
   "cell_type": "code",
   "execution_count": 84,
   "id": "9754a956",
   "metadata": {},
   "outputs": [
    {
     "data": {
      "text/plain": [
       "KMeans(n_clusters=3)"
      ]
     },
     "execution_count": 84,
     "metadata": {},
     "output_type": "execute_result"
    }
   ],
   "source": [
    "km = KMeans(n_clusters=3)\n",
    "km"
   ]
  },
  {
   "cell_type": "code",
   "execution_count": 85,
   "id": "828977fe",
   "metadata": {},
   "outputs": [],
   "source": [
    "y_predicted=km.fit_predict(df)"
   ]
  },
  {
   "cell_type": "code",
   "execution_count": 86,
   "id": "dba18975",
   "metadata": {},
   "outputs": [],
   "source": [
    "df['cluster']=km.fit_predict(df)"
   ]
  },
  {
   "cell_type": "markdown",
   "id": "2cfd2b5a",
   "metadata": {},
   "source": [
    "### Preuve que le KMeans est utile "
   ]
  },
  {
   "cell_type": "markdown",
   "id": "e14b2e38",
   "metadata": {},
   "source": [
    "Nous allons juste vérifier que la nouvelle features \"cluster\" est importante."
   ]
  },
  {
   "cell_type": "code",
   "execution_count": 87,
   "id": "ff604419",
   "metadata": {},
   "outputs": [],
   "source": [
    "realcorr=df.corr()"
   ]
  },
  {
   "cell_type": "code",
   "execution_count": 88,
   "id": "147e659c",
   "metadata": {},
   "outputs": [],
   "source": [
    "corr_df = realcorr.unstack().reset_index() \n",
    "corr_df.columns = ['feature_1','feature_2', 'correlation'] \n",
    "corr_df.sort_values(by=\"correlation\",ascending=False, inplace=True) \n",
    "corr_df = corr_df[corr_df['feature_1'] != corr_df['feature_2']] "
   ]
  },
  {
   "cell_type": "code",
   "execution_count": 89,
   "id": "9353c253",
   "metadata": {},
   "outputs": [
    {
     "data": {
      "text/html": [
       "<div>\n",
       "<style scoped>\n",
       "    .dataframe tbody tr th:only-of-type {\n",
       "        vertical-align: middle;\n",
       "    }\n",
       "\n",
       "    .dataframe tbody tr th {\n",
       "        vertical-align: top;\n",
       "    }\n",
       "\n",
       "    .dataframe thead th {\n",
       "        text-align: right;\n",
       "    }\n",
       "</style>\n",
       "<table border=\"1\" class=\"dataframe\">\n",
       "  <thead>\n",
       "    <tr style=\"text-align: right;\">\n",
       "      <th></th>\n",
       "      <th>feature_1</th>\n",
       "      <th>feature_2</th>\n",
       "      <th>correlation</th>\n",
       "    </tr>\n",
       "  </thead>\n",
       "  <tbody>\n",
       "    <tr>\n",
       "      <th>0</th>\n",
       "      <td>median_house_value</td>\n",
       "      <td>median_income</td>\n",
       "      <td>0.689593</td>\n",
       "    </tr>\n",
       "    <tr>\n",
       "      <th>1</th>\n",
       "      <td>median_house_value</td>\n",
       "      <td>&lt;1H OCEAN</td>\n",
       "      <td>0.259971</td>\n",
       "    </tr>\n",
       "    <tr>\n",
       "      <th>2</th>\n",
       "      <td>median_house_value</td>\n",
       "      <td>NEAR BAY</td>\n",
       "      <td>0.160470</td>\n",
       "    </tr>\n",
       "    <tr>\n",
       "      <th>3</th>\n",
       "      <td>median_house_value</td>\n",
       "      <td>NEAR OCEAN</td>\n",
       "      <td>0.140880</td>\n",
       "    </tr>\n",
       "    <tr>\n",
       "      <th>4</th>\n",
       "      <td>median_house_value</td>\n",
       "      <td>total_rooms</td>\n",
       "      <td>0.132570</td>\n",
       "    </tr>\n",
       "    <tr>\n",
       "      <th>5</th>\n",
       "      <td>median_house_value</td>\n",
       "      <td>housing_median_age</td>\n",
       "      <td>0.109763</td>\n",
       "    </tr>\n",
       "    <tr>\n",
       "      <th>6</th>\n",
       "      <td>median_house_value</td>\n",
       "      <td>households</td>\n",
       "      <td>0.062674</td>\n",
       "    </tr>\n",
       "    <tr>\n",
       "      <th>7</th>\n",
       "      <td>median_house_value</td>\n",
       "      <td>total_bedrooms</td>\n",
       "      <td>0.047478</td>\n",
       "    </tr>\n",
       "    <tr>\n",
       "      <th>8</th>\n",
       "      <td>median_house_value</td>\n",
       "      <td>ISLAND</td>\n",
       "      <td>0.026780</td>\n",
       "    </tr>\n",
       "    <tr>\n",
       "      <th>9</th>\n",
       "      <td>median_house_value</td>\n",
       "      <td>population</td>\n",
       "      <td>-0.028033</td>\n",
       "    </tr>\n",
       "    <tr>\n",
       "      <th>10</th>\n",
       "      <td>median_house_value</td>\n",
       "      <td>longitude</td>\n",
       "      <td>-0.046419</td>\n",
       "    </tr>\n",
       "    <tr>\n",
       "      <th>11</th>\n",
       "      <td>median_house_value</td>\n",
       "      <td>latitude</td>\n",
       "      <td>-0.144143</td>\n",
       "    </tr>\n",
       "    <tr>\n",
       "      <th>12</th>\n",
       "      <td>median_house_value</td>\n",
       "      <td>INLAND</td>\n",
       "      <td>-0.487880</td>\n",
       "    </tr>\n",
       "    <tr>\n",
       "      <th>13</th>\n",
       "      <td>median_house_value</td>\n",
       "      <td>cluster</td>\n",
       "      <td>-0.522170</td>\n",
       "    </tr>\n",
       "  </tbody>\n",
       "</table>\n",
       "</div>"
      ],
      "text/plain": [
       "             feature_1           feature_2  correlation\n",
       "0   median_house_value       median_income     0.689593\n",
       "1   median_house_value           <1H OCEAN     0.259971\n",
       "2   median_house_value            NEAR BAY     0.160470\n",
       "3   median_house_value          NEAR OCEAN     0.140880\n",
       "4   median_house_value         total_rooms     0.132570\n",
       "5   median_house_value  housing_median_age     0.109763\n",
       "6   median_house_value          households     0.062674\n",
       "7   median_house_value      total_bedrooms     0.047478\n",
       "8   median_house_value              ISLAND     0.026780\n",
       "9   median_house_value          population    -0.028033\n",
       "10  median_house_value           longitude    -0.046419\n",
       "11  median_house_value            latitude    -0.144143\n",
       "12  median_house_value              INLAND    -0.487880\n",
       "13  median_house_value             cluster    -0.522170"
      ]
     },
     "execution_count": 89,
     "metadata": {},
     "output_type": "execute_result"
    }
   ],
   "source": [
    "corr_df = corr_df[corr_df['feature_1'] == 'median_house_value']\n",
    "corr_df=(corr_df.reset_index(drop=True))\n",
    "corr_df"
   ]
  },
  {
   "cell_type": "markdown",
   "id": "7cf4dec5",
   "metadata": {},
   "source": [
    "Nous voyons donc la feature \"cluster\" qui a un score très important. L'opération est donc pertinente."
   ]
  },
  {
   "cell_type": "markdown",
   "id": "e45a9d20",
   "metadata": {},
   "source": [
    "## Scaling des données (avec Robust Scaler) <a class=\"anchor\" id=\"scaling\"></a>"
   ]
  },
  {
   "cell_type": "markdown",
   "id": "85d31218",
   "metadata": {},
   "source": [
    "Scaler les données nous permettra de toutes les avoir au même niveau. Nous ne touchons cependant pas à la target (ici \"median_house_value\")."
   ]
  },
  {
   "cell_type": "code",
   "execution_count": 90,
   "id": "4869a46f",
   "metadata": {},
   "outputs": [],
   "source": [
    "X = df.drop(columns=['median_house_value'],axis=1)\n",
    "y = df['median_house_value']"
   ]
  },
  {
   "cell_type": "code",
   "execution_count": 91,
   "id": "7aa614a3",
   "metadata": {},
   "outputs": [],
   "source": [
    "rs=RobustScaler()\n",
    "x=rs.fit_transform(X)"
   ]
  },
  {
   "cell_type": "markdown",
   "id": "b3db9396",
   "metadata": {},
   "source": [
    "## Création du modèle avec KNN <a class=\"anchor\" id=\"knn\"></a>"
   ]
  },
  {
   "cell_type": "markdown",
   "id": "97773a74",
   "metadata": {},
   "source": [
    "Enfin, nous allons créer le modèle avec la méthode KNN"
   ]
  },
  {
   "cell_type": "code",
   "execution_count": 66,
   "id": "2e836b43",
   "metadata": {},
   "outputs": [],
   "source": [
    "X_train, X_test, y_train, y_test = train_test_split(x, y, test_size=0.2,random_state=0)"
   ]
  },
  {
   "cell_type": "code",
   "execution_count": 67,
   "id": "c92439f6",
   "metadata": {},
   "outputs": [],
   "source": [
    "knn = KNeighborsRegressor(n_neighbors=9)"
   ]
  },
  {
   "cell_type": "code",
   "execution_count": 68,
   "id": "f4706a66",
   "metadata": {},
   "outputs": [
    {
     "data": {
      "text/plain": [
       "KNeighborsRegressor(n_neighbors=9)"
      ]
     },
     "execution_count": 68,
     "metadata": {},
     "output_type": "execute_result"
    }
   ],
   "source": [
    "knn.fit(X_train, y_train)"
   ]
  },
  {
   "cell_type": "code",
   "execution_count": 69,
   "id": "2fe07b9e",
   "metadata": {},
   "outputs": [
    {
     "data": {
      "text/plain": [
       "array([408522.44444444, 107622.22222222, 175188.88888889, ...,\n",
       "       128355.55555556, 117755.55555556, 406622.55555556])"
      ]
     },
     "execution_count": 69,
     "metadata": {},
     "output_type": "execute_result"
    }
   ],
   "source": [
    "pred = knn.predict(X_test)\n",
    "pred"
   ]
  },
  {
   "cell_type": "code",
   "execution_count": 70,
   "id": "e92f465b",
   "metadata": {},
   "outputs": [
    {
     "data": {
      "text/plain": [
       "0.8960540200949887"
      ]
     },
     "execution_count": 70,
     "metadata": {},
     "output_type": "execute_result"
    }
   ],
   "source": [
    "knn.score(X_test, y_test)"
   ]
  },
  {
   "cell_type": "markdown",
   "id": "37047e52",
   "metadata": {},
   "source": [
    "#### Nous avons un score de 0,896. Il peut être amélioré en enlevant des features qui n'importe peu, sélectionné grâce à l'EDA. "
   ]
  },
  {
   "cell_type": "markdown",
   "id": "8efd9b75",
   "metadata": {},
   "source": [
    "## Test avec dataset nettoyé <a class=\"anchor\" id=\"cleaned\"></a>"
   ]
  },
  {
   "cell_type": "markdown",
   "id": "51676e02",
   "metadata": {},
   "source": [
    "### Colonne à enlever  "
   ]
  },
  {
   "cell_type": "markdown",
   "id": "f3835377",
   "metadata": {},
   "source": [
    "Après plusieurs tests, les features suivantes sont enlevé : housing_median_age , ISLAND, total_rooms\n",
    "\n",
    "Le score n'est que très peu enlevé, mais cela permet tout de même d'avoir un meilleur score."
   ]
  },
  {
   "cell_type": "code",
   "execution_count": 72,
   "id": "c2bcf618",
   "metadata": {},
   "outputs": [],
   "source": [
    "ndf = df.drop(columns=['housing_median_age','ISLAND','total_rooms'],axis=1) "
   ]
  },
  {
   "cell_type": "code",
   "execution_count": 74,
   "id": "92f69671",
   "metadata": {},
   "outputs": [],
   "source": [
    "X2 = ndf.drop(columns=['median_house_value'],axis=1)\n",
    "y1 = ndf['median_house_value']"
   ]
  },
  {
   "cell_type": "code",
   "execution_count": 75,
   "id": "4ed08830",
   "metadata": {},
   "outputs": [],
   "source": [
    "rs=RobustScaler()\n",
    "X1=rs.fit_transform(X2)"
   ]
  },
  {
   "cell_type": "code",
   "execution_count": 76,
   "id": "a3880857",
   "metadata": {},
   "outputs": [],
   "source": [
    "X_train, X_test, y_train, y_test = train_test_split(X1, y1, test_size=0.2,random_state=0)"
   ]
  },
  {
   "cell_type": "code",
   "execution_count": 77,
   "id": "69e7b962",
   "metadata": {},
   "outputs": [],
   "source": [
    "knn = KNeighborsRegressor(n_neighbors=9)"
   ]
  },
  {
   "cell_type": "code",
   "execution_count": 78,
   "id": "9cce6571",
   "metadata": {},
   "outputs": [
    {
     "data": {
      "text/plain": [
       "KNeighborsRegressor(n_neighbors=9)"
      ]
     },
     "execution_count": 78,
     "metadata": {},
     "output_type": "execute_result"
    }
   ],
   "source": [
    "knn.fit(X_train, y_train)"
   ]
  },
  {
   "cell_type": "code",
   "execution_count": 79,
   "id": "6d3aaec2",
   "metadata": {},
   "outputs": [
    {
     "data": {
      "text/plain": [
       "array([435767.11111111, 120833.33333333, 173311.11111111, ...,\n",
       "       110000.        , 108611.11111111, 394489.11111111])"
      ]
     },
     "execution_count": 79,
     "metadata": {},
     "output_type": "execute_result"
    }
   ],
   "source": [
    "pred = knn.predict(X_test)\n",
    "pred"
   ]
  },
  {
   "cell_type": "code",
   "execution_count": 81,
   "id": "e6d92e6d",
   "metadata": {},
   "outputs": [
    {
     "data": {
      "text/plain": [
       "0.899934705391755"
      ]
     },
     "execution_count": 81,
     "metadata": {},
     "output_type": "execute_result"
    }
   ],
   "source": [
    "knn.score(X_test, y_test)"
   ]
  },
  {
   "cell_type": "markdown",
   "id": "65264466",
   "metadata": {},
   "source": [
    "#### Nous avons maintenant un score de 0,90. Le score a été amélioré, certes de peu mais reste tout de même meilleur. Nous validons donc ce modèle et c'est celui-ci que nous allons donner au client."
   ]
  },
  {
   "cell_type": "markdown",
   "id": "12d4169b",
   "metadata": {},
   "source": [
    "## Exportation du modèle avec pickle <a class=\"anchor\" id=\"pickle\"></a>"
   ]
  },
  {
   "cell_type": "code",
   "execution_count": 98,
   "id": "4d6481b7",
   "metadata": {},
   "outputs": [],
   "source": [
    "with open(\"knn.pkl\", \"wb\") as file:\n",
    "    pickle.dump(knn, file)"
   ]
  }
 ],
 "metadata": {
  "kernelspec": {
   "display_name": "Python 3",
   "language": "python",
   "name": "python3"
  },
  "language_info": {
   "codemirror_mode": {
    "name": "ipython",
    "version": 3
   },
   "file_extension": ".py",
   "mimetype": "text/x-python",
   "name": "python",
   "nbconvert_exporter": "python",
   "pygments_lexer": "ipython3",
   "version": "3.8.8"
  }
 },
 "nbformat": 4,
 "nbformat_minor": 5
}
